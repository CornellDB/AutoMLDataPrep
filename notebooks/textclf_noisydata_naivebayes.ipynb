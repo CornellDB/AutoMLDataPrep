{
 "cells": [
  {
   "cell_type": "markdown",
   "metadata": {},
   "source": [
    "# Text Classification on Noisy IMDB Dataset using Naive Bayes"
   ]
  },
  {
   "cell_type": "markdown",
   "metadata": {},
   "source": [
    "## 1. Experiment Details\n",
    "|Specification|Value|\n",
    "|----|----|\n",
    "|AutoML Framework|NA - Naive Bayes|\n",
    "|Task|Binary Text Classification|\n",
    "|Dataset|IMDB Movie Reviews|\n",
    "|Dataset Clean|No|\n",
    "|Noise Type|Random|"
   ]
  },
  {
   "cell_type": "markdown",
   "metadata": {},
   "source": [
    "## 2. Load Packages"
   ]
  },
  {
   "cell_type": "code",
   "execution_count": 1,
   "metadata": {},
   "outputs": [
    {
     "name": "stderr",
     "output_type": "stream",
     "text": [
      "[nltk_data] Downloading package stopwords to\n",
      "[nltk_data]     /Users/yogesh/nltk_data...\n",
      "[nltk_data]   Package stopwords is already up-to-date!\n",
      "[nltk_data] Downloading package wordnet to /Users/yogesh/nltk_data...\n",
      "[nltk_data]   Package wordnet is already up-to-date!\n"
     ]
    }
   ],
   "source": [
    "# Packages for data processing\n",
    "import numpy as np\n",
    "import pandas as pd\n",
    "from scripts.add_noise import add_gaussian_noise, add_random_noise\n",
    "from scripts.data_preprocess import preprocess_text\n",
    "from sklearn.model_selection import train_test_split\n",
    "\n",
    "# Packages for AutoML framework execution\n",
    "# from tpot.export_utils import set_param_recursive\n",
    "from sklearn.naive_bayes import BernoulliNB\n",
    "from sklearn.pipeline import make_pipeline\n",
    "from sklearn.preprocessing import Normalizer\n",
    "\n",
    "# Packages for evaluation plots\n",
    "from sklearn.metrics import precision_score, recall_score, f1_score\n",
    "import matplotlib.pyplot as plt\n",
    "from scripts.plot_model_scores import get_plot_model\n",
    "\n",
    "random_state = 42"
   ]
  },
  {
   "cell_type": "markdown",
   "metadata": {},
   "source": [
    "## 3. Load and Pre-process Dataset"
   ]
  },
  {
   "cell_type": "code",
   "execution_count": 2,
   "metadata": {},
   "outputs": [],
   "source": [
    "# Gaussian noisy data is already computed and stored as dataset. However, the below code snippet can be used to generate new noisy data.\n",
    "# \"\"\"\n",
    "df = pd.read_csv(\"../datasets/clean/imdb.csv\")\n",
    "noisy_df = df.copy()\n",
    "noisy_df['review'] = noisy_df['review'].apply(lambda x: add_gaussian_noise(x, mean=0, std_dev=0.6))\n",
    "noisy_df.to_csv(\"../datasets/noisy/imdb_noisy_gaussian.csv\")\n",
    "# \"\"\"\n",
    "\n",
    "# Get the required dataset from the datasets folder\n",
    "imdb_df = pd.read_csv(\"../datasets/noisy/imdb_noisy_gaussian.csv\", index_col=0)"
   ]
  },
  {
   "cell_type": "code",
   "execution_count": 3,
   "metadata": {},
   "outputs": [],
   "source": [
    "# Random noisy data is already computed and stored as dataset. However, the below code snippet can be used to generate new noisy data.\n",
    "# \"\"\"\n",
    "df = pd.read_csv(\"../datasets/clean/imdb.csv\")\n",
    "noisy_df = df.copy()\n",
    "noisy_df['review'] = noisy_df['review'].apply(lambda x: add_random_noise(x, noise_level=0.1))\n",
    "noisy_df.to_csv(\"../datasets/noisy/imdb_noisy_random.csv\")\n",
    "# \"\"\"\n",
    "\n",
    "# Get the required dataset from the datasets folder\n",
    "imdb_df = pd.read_csv(\"../datasets/noisy/imdb_noisy_random.csv\", index_col=0)"
   ]
  },
  {
   "cell_type": "code",
   "execution_count": 4,
   "metadata": {},
   "outputs": [],
   "source": [
    "# Sample the data for experimentation purposes\n",
    "# Some AutoML frameworks can take long time to test multiple pipelines on large-scale data (e.g. 4+ hours on 50K+ text data)\n",
    "imdb_df = imdb_df.sample(frac=0.2, replace=False, random_state=random_state)"
   ]
  },
  {
   "cell_type": "code",
   "execution_count": 5,
   "metadata": {},
   "outputs": [],
   "source": [
    "# Certain AutoML frameworks such as TPOT require the target variable to be explicitly named as 'target'\n",
    "imdb_df.reset_index(inplace=True)\n",
    "imdb_df.rename(columns={'sentiment':'target'}, inplace=True)\n",
    "imdb_df['target'] = imdb_df['target'].apply(lambda x: 1 if x =='positive' else 0)"
   ]
  },
  {
   "cell_type": "code",
   "execution_count": 6,
   "metadata": {},
   "outputs": [],
   "source": [
    "# Pre-process the text to lower case, remove stopwords, lemmatize, etc.\n",
    "imdb_df['tokenized_review'] = imdb_df['review'].apply(preprocess_text)"
   ]
  },
  {
   "cell_type": "code",
   "execution_count": 7,
   "metadata": {},
   "outputs": [],
   "source": [
    "# Create a Word2Vec model and obtain embeddings for all the reviews in the dataset\n",
    "from gensim.models import Word2Vec\n",
    "\n",
    "sentences = imdb_df['tokenized_review'].tolist()\n",
    "w2v_model_path = \"word2vec_imdb\"\n",
    "w2v_model = Word2Vec(sentences, vector_size=50, window=5, min_count=1, sg=0)\n",
    "w2v_model.save(f\"{w2v_model_path}.model\")"
   ]
  },
  {
   "cell_type": "code",
   "execution_count": 8,
   "metadata": {},
   "outputs": [],
   "source": [
    "if w2v_model is None: w2v_model = Word2Vec.load(f'{w2v_model_path}.model')\n",
    "\n",
    "def get_w2v_average_embedding(tokens):\n",
    "  # Calculate average word embedding for the tokens in a row\n",
    "  vectors = [w2v_model.wv[word] for word in tokens if word in w2v_model.wv]\n",
    "  if vectors: \n",
    "    return sum(vectors) / len(vectors)\n",
    "  else:\n",
    "    return None\n",
    "  \n",
    "imdb_df['review_embeddings'] = imdb_df['tokenized_review'].apply(get_w2v_average_embedding)"
   ]
  },
  {
   "cell_type": "code",
   "execution_count": 9,
   "metadata": {},
   "outputs": [
    {
     "data": {
      "text/html": [
       "<div>\n",
       "<style scoped>\n",
       "    .dataframe tbody tr th:only-of-type {\n",
       "        vertical-align: middle;\n",
       "    }\n",
       "\n",
       "    .dataframe tbody tr th {\n",
       "        vertical-align: top;\n",
       "    }\n",
       "\n",
       "    .dataframe thead th {\n",
       "        text-align: right;\n",
       "    }\n",
       "</style>\n",
       "<table border=\"1\" class=\"dataframe\">\n",
       "  <thead>\n",
       "    <tr style=\"text-align: right;\">\n",
       "      <th></th>\n",
       "      <th>index</th>\n",
       "      <th>review</th>\n",
       "      <th>target</th>\n",
       "      <th>tokenized_review</th>\n",
       "      <th>review_embeddings</th>\n",
       "    </tr>\n",
       "  </thead>\n",
       "  <tbody>\n",
       "    <tr>\n",
       "      <th>0</th>\n",
       "      <td>33553</td>\n",
       "      <td>S reWllyAliked tJis Summerslam uue ro the look...</td>\n",
       "      <td>1</td>\n",
       "      <td>[rewllyaliked, tjis, summerslam, uue, ro, look...</td>\n",
       "      <td>[-0.51469487, 0.40183225, -0.3566102, 0.083162...</td>\n",
       "    </tr>\n",
       "    <tr>\n",
       "      <th>1</th>\n",
       "      <td>9427</td>\n",
       "      <td>Not mRnyrtelevision sUoGs appealqto quiteKas m...</td>\n",
       "      <td>1</td>\n",
       "      <td>[mrnyrtelevision, suogs, appealqto, quitekas, ...</td>\n",
       "      <td>[-0.70957524, 0.5449302, -0.48182988, 0.126010...</td>\n",
       "    </tr>\n",
       "    <tr>\n",
       "      <th>2</th>\n",
       "      <td>199</td>\n",
       "      <td>The film quickly gets to a major chase scene w...</td>\n",
       "      <td>0</td>\n",
       "      <td>[film, quickly, get, major, chase, scene, ever...</td>\n",
       "      <td>[-0.8582649, 0.66713, -0.57201254, 0.1897775, ...</td>\n",
       "    </tr>\n",
       "    <tr>\n",
       "      <th>3</th>\n",
       "      <td>12447</td>\n",
       "      <td>Jane Aulten wtuld definitely approve of this o...</td>\n",
       "      <td>1</td>\n",
       "      <td>[jane, aulten, wtuld, definitely, approve, onm...</td>\n",
       "      <td>[-0.63081187, 0.48788092, -0.41911, 0.1396066,...</td>\n",
       "    </tr>\n",
       "    <tr>\n",
       "      <th>4</th>\n",
       "      <td>39489</td>\n",
       "      <td>ExpeetationH wgrelsomewhaF high for mehwhen I ...</td>\n",
       "      <td>0</td>\n",
       "      <td>[expeetationh, wgrelsomewhaf, high, mehwhen, w...</td>\n",
       "      <td>[-0.7308365, 0.56106776, -0.49123153, 0.153892...</td>\n",
       "    </tr>\n",
       "  </tbody>\n",
       "</table>\n",
       "</div>"
      ],
      "text/plain": [
       "   index                                             review  target  \\\n",
       "0  33553  S reWllyAliked tJis Summerslam uue ro the look...       1   \n",
       "1   9427  Not mRnyrtelevision sUoGs appealqto quiteKas m...       1   \n",
       "2    199  The film quickly gets to a major chase scene w...       0   \n",
       "3  12447  Jane Aulten wtuld definitely approve of this o...       1   \n",
       "4  39489  ExpeetationH wgrelsomewhaF high for mehwhen I ...       0   \n",
       "\n",
       "                                    tokenized_review  \\\n",
       "0  [rewllyaliked, tjis, summerslam, uue, ro, look...   \n",
       "1  [mrnyrtelevision, suogs, appealqto, quitekas, ...   \n",
       "2  [film, quickly, get, major, chase, scene, ever...   \n",
       "3  [jane, aulten, wtuld, definitely, approve, onm...   \n",
       "4  [expeetationh, wgrelsomewhaf, high, mehwhen, w...   \n",
       "\n",
       "                                   review_embeddings  \n",
       "0  [-0.51469487, 0.40183225, -0.3566102, 0.083162...  \n",
       "1  [-0.70957524, 0.5449302, -0.48182988, 0.126010...  \n",
       "2  [-0.8582649, 0.66713, -0.57201254, 0.1897775, ...  \n",
       "3  [-0.63081187, 0.48788092, -0.41911, 0.1396066,...  \n",
       "4  [-0.7308365, 0.56106776, -0.49123153, 0.153892...  "
      ]
     },
     "execution_count": 9,
     "metadata": {},
     "output_type": "execute_result"
    }
   ],
   "source": [
    "imdb_df.head()"
   ]
  },
  {
   "cell_type": "markdown",
   "metadata": {},
   "source": [
    "## 4. Train Model and Predict"
   ]
  },
  {
   "cell_type": "code",
   "execution_count": 10,
   "metadata": {},
   "outputs": [],
   "source": [
    "# Split the dataset into traning and testing splits\n",
    "X_train, X_test, y_train, y_test = train_test_split(np.vstack(imdb_df['review_embeddings']),\n",
    "                                                    imdb_df.loc[:, 'target'], \n",
    "                                                    train_size=0.75, test_size=0.25, random_state=random_state)"
   ]
  },
  {
   "cell_type": "code",
   "execution_count": 11,
   "metadata": {},
   "outputs": [],
   "source": [
    "# We run Naive Bayes model to define a benchmark for F1-score, precision, and recall\n",
    "naive_bayes_model = make_pipeline(\n",
    "    Normalizer(norm=\"l2\"),\n",
    "    BernoulliNB(alpha=1.0, fit_prior=True)\n",
    ")\n",
    "\n",
    "naive_bayes_model.fit(X_train, y_train)\n",
    "y_pred_naive_bayes = naive_bayes_model.predict(X_test)"
   ]
  },
  {
   "cell_type": "markdown",
   "metadata": {},
   "source": [
    "## 5. Evaluate Model"
   ]
  },
  {
   "cell_type": "code",
   "execution_count": 23,
   "metadata": {},
   "outputs": [],
   "source": [
    "# We now evaluate our model performances on this dataset and compare against the Naive Bayes benchmark\n",
    "precision_naive_bayes = precision_score(y_true=y_test, y_pred=y_pred_naive_bayes)\n",
    "recall_naive_bayes = recall_score(y_true=y_test, y_pred=y_pred_naive_bayes)\n",
    "f1_naive_bayes = f1_score(y_test, y_pred_naive_bayes)\n",
    "\n",
    "model_names = ['Naive Bayes']\n",
    "plot_title = 'Noisy Data - Naive Bayes Performance'\n",
    "f1_scores = [f1_naive_bayes]\n",
    "recall_scores = [recall_naive_bayes]\n",
    "precision_scores = [precision_naive_bayes]"
   ]
  },
  {
   "cell_type": "code",
   "execution_count": 24,
   "metadata": {},
   "outputs": [
    {
     "data": {
      "image/png": "[encoded data removed]",
      "text/plain": [
       "<Figure size 1000x600 with 1 Axes>"
      ]
     },
     "metadata": {},
     "output_type": "display_data"
    }
   ],
   "source": [
    "fig = get_plot_model(model_names=model_names, f1_scores=f1_scores, recall_scores=recall_scores, precision_scores=precision_scores, title=plot_title)\n",
    "plt.show()"
   ]
  }
 ],
 "metadata": {
  "kernelspec": {
   "display_name": "automlenv",
   "language": "python",
   "name": "python3"
  },
  "language_info": {
   "codemirror_mode": {
    "name": "ipython",
    "version": 3
   },
   "file_extension": ".py",
   "mimetype": "text/x-python",
   "name": "python",
   "nbconvert_exporter": "python",
   "pygments_lexer": "ipython3",
   "version": "3.8.18"
  }
 },
 "nbformat": 4,
 "nbformat_minor": 2
}
