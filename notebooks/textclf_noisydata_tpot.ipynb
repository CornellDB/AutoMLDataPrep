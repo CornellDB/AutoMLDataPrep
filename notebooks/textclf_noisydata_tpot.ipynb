{
 "cells": [
  {
   "cell_type": "markdown",
   "metadata": {},
   "source": [
    "# Text Classification on Noisy IMDB Dataset using TPOT"
   ]
  },
  {
   "cell_type": "markdown",
   "metadata": {},
   "source": [
    "## 1. Experiment Details\n",
    "|Specification|Value|\n",
    "|----|----|\n",
    "|AutoML Framework|TPOT|\n",
    "|Task|Binary Text Classification|\n",
    "|Dataset|IMDB Movie Reviews|\n",
    "|Dataset Clean|No|\n",
    "|Noise Type|Random|"
   ]
  },
  {
   "cell_type": "markdown",
   "metadata": {},
   "source": [
    "## 2. Load Packages"
   ]
  },
  {
   "cell_type": "code",
   "execution_count": 1,
   "metadata": {},
   "outputs": [
    {
     "name": "stderr",
     "output_type": "stream",
     "text": [
      "[nltk_data] Downloading package stopwords to\n",
      "[nltk_data]     /Users/yogesh/nltk_data...\n",
      "[nltk_data]   Package stopwords is already up-to-date!\n",
      "[nltk_data] Downloading package wordnet to /Users/yogesh/nltk_data...\n",
      "[nltk_data]   Package wordnet is already up-to-date!\n"
     ]
    }
   ],
   "source": [
    "# Packages for data processing\n",
    "import numpy as np\n",
    "import pandas as pd\n",
    "from scripts.add_noise import add_gaussian_noise, add_random_noise\n",
    "from scripts.data_preprocess import preprocess_text\n",
    "from sklearn.model_selection import train_test_split\n",
    "\n",
    "# Packages for AutoML framework execution\n",
    "from tpot import TPOTClassifier\n",
    "from tpot.export_utils import set_param_recursive\n",
    "from sklearn.pipeline import make_pipeline\n",
    "from sklearn.preprocessing import Normalizer\n",
    "\n",
    "# Packages for evaluation plots\n",
    "from sklearn.metrics import precision_score, recall_score, f1_score\n",
    "import matplotlib.pyplot as plt\n",
    "from scripts.plot_model_scores import get_plot_model\n",
    "\n",
    "random_state = 42"
   ]
  },
  {
   "cell_type": "markdown",
   "metadata": {},
   "source": [
    "## 3. Load and Pre-process Dataset"
   ]
  },
  {
   "cell_type": "code",
   "execution_count": 2,
   "metadata": {},
   "outputs": [],
   "source": [
    "# Gaussian noisy data is already computed and stored as dataset. However, the below code snippet can be used to generate new noisy data.\n",
    "# \"\"\"\n",
    "df = pd.read_csv(\"../datasets/clean/imdb.csv\")\n",
    "noisy_df = df.copy()\n",
    "noisy_df['review'] = noisy_df['review'].apply(lambda x: add_gaussian_noise(x, mean=0, std_dev=0.6))\n",
    "noisy_df.to_csv(\"../datasets/noisy/imdb_noisy_gaussian.csv\")\n",
    "# \"\"\"\n",
    "\n",
    "# Get the required dataset from the datasets folder\n",
    "imdb_df = pd.read_csv(\"../datasets/noisy/imdb_noisy_gaussian.csv\", index_col=0)"
   ]
  },
  {
   "cell_type": "code",
   "execution_count": 3,
   "metadata": {},
   "outputs": [],
   "source": [
    "# Random noisy data is already computed and stored as dataset. However, the below code snippet can be used to generate new noisy data.\n",
    "# \"\"\"\n",
    "df = pd.read_csv(\"../datasets/clean/imdb.csv\")\n",
    "noisy_df = df.copy()\n",
    "noisy_df['review'] = noisy_df['review'].apply(lambda x: add_random_noise(x, noise_level=0.1))\n",
    "noisy_df.to_csv(\"../datasets/noisy/imdb_noisy_random.csv\")\n",
    "# \"\"\"\n",
    "\n",
    "# Get the required dataset from the datasets folder\n",
    "imdb_df = pd.read_csv(\"../datasets/noisy/imdb_noisy_random.csv\", index_col=0)"
   ]
  },
  {
   "cell_type": "code",
   "execution_count": 4,
   "metadata": {},
   "outputs": [],
   "source": [
    "# Sample the data for experimentation purposes\n",
    "# Some AutoML frameworks can take long time to test multiple pipelines on large-scale data (e.g. 4+ hours on 50K+ text data)\n",
    "imdb_df = imdb_df.sample(frac=0.2, replace=False, random_state=random_state)"
   ]
  },
  {
   "cell_type": "code",
   "execution_count": 5,
   "metadata": {},
   "outputs": [],
   "source": [
    "# Certain AutoML frameworks such as TPOT require the target variable to be explicitly named as 'target'\n",
    "imdb_df.reset_index(inplace=True)\n",
    "imdb_df.rename(columns={'sentiment':'target'}, inplace=True)\n",
    "imdb_df['target'] = imdb_df['target'].apply(lambda x: 1 if x =='positive' else 0)"
   ]
  },
  {
   "cell_type": "code",
   "execution_count": 6,
   "metadata": {},
   "outputs": [],
   "source": [
    "# Pre-process the text to lower case, remove stopwords, lemmatize, etc.\n",
    "imdb_df['tokenized_review'] = imdb_df['review'].apply(preprocess_text)"
   ]
  },
  {
   "cell_type": "code",
   "execution_count": 7,
   "metadata": {},
   "outputs": [],
   "source": [
    "# Create a Word2Vec model and obtain embeddings for all the reviews in the dataset\n",
    "from gensim.models import Word2Vec\n",
    "\n",
    "sentences = imdb_df['tokenized_review'].tolist()\n",
    "w2v_model_path = \"word2vec_imdb\"\n",
    "w2v_model = Word2Vec(sentences, vector_size=50, window=5, min_count=1, sg=0)\n",
    "w2v_model.save(f\"{w2v_model_path}.model\")"
   ]
  },
  {
   "cell_type": "code",
   "execution_count": 8,
   "metadata": {},
   "outputs": [],
   "source": [
    "if w2v_model is None: w2v_model = Word2Vec.load(f'{w2v_model_path}.model')\n",
    "\n",
    "def get_w2v_average_embedding(tokens):\n",
    "  # Calculate average word embedding for the tokens in a row\n",
    "  vectors = [w2v_model.wv[word] for word in tokens if word in w2v_model.wv]\n",
    "  if vectors: \n",
    "    return sum(vectors) / len(vectors)\n",
    "  else:\n",
    "    return None\n",
    "  \n",
    "imdb_df['review_embeddings'] = imdb_df['tokenized_review'].apply(get_w2v_average_embedding)"
   ]
  },
  {
   "cell_type": "code",
   "execution_count": 9,
   "metadata": {},
   "outputs": [
    {
     "data": {
      "text/html": [
       "<div>\n",
       "<style scoped>\n",
       "    .dataframe tbody tr th:only-of-type {\n",
       "        vertical-align: middle;\n",
       "    }\n",
       "\n",
       "    .dataframe tbody tr th {\n",
       "        vertical-align: top;\n",
       "    }\n",
       "\n",
       "    .dataframe thead th {\n",
       "        text-align: right;\n",
       "    }\n",
       "</style>\n",
       "<table border=\"1\" class=\"dataframe\">\n",
       "  <thead>\n",
       "    <tr style=\"text-align: right;\">\n",
       "      <th></th>\n",
       "      <th>index</th>\n",
       "      <th>review</th>\n",
       "      <th>target</th>\n",
       "      <th>tokenized_review</th>\n",
       "      <th>review_embeddings</th>\n",
       "    </tr>\n",
       "  </thead>\n",
       "  <tbody>\n",
       "    <tr>\n",
       "      <th>0</th>\n",
       "      <td>33553</td>\n",
       "      <td>I really lTked this Summerslam due tB the lvok...</td>\n",
       "      <td>1</td>\n",
       "      <td>[really, ltked, summerslam, due, tb, lvok, ofr...</td>\n",
       "      <td>[-0.046897937, -0.31579578, -0.3297809, -0.566...</td>\n",
       "    </tr>\n",
       "    <tr>\n",
       "      <th>1</th>\n",
       "      <td>9427</td>\n",
       "      <td>Not tany delevision shows appeal to vuOte Ds m...</td>\n",
       "      <td>1</td>\n",
       "      <td>[tany, delevision, show, appeal, vuote, d, man...</td>\n",
       "      <td>[-0.06993935, -0.39834782, -0.39500913, -0.698...</td>\n",
       "    </tr>\n",
       "    <tr>\n",
       "      <th>2</th>\n",
       "      <td>199</td>\n",
       "      <td>The film Suickly gets to a mTjor chase sccne w...</td>\n",
       "      <td>0</td>\n",
       "      <td>[film, suickly, get, mtjor, chase, sccne, eker...</td>\n",
       "      <td>[-0.09500944, -0.41860768, -0.40264693, -0.719...</td>\n",
       "    </tr>\n",
       "    <tr>\n",
       "      <th>3</th>\n",
       "      <td>12447</td>\n",
       "      <td>JanT Austen would definiDely approve of this o...</td>\n",
       "      <td>1</td>\n",
       "      <td>[jant, austen, would, definidely, approve, oze...</td>\n",
       "      <td>[-0.10157503, -0.42611623, -0.36409375, -0.722...</td>\n",
       "    </tr>\n",
       "    <tr>\n",
       "      <th>4</th>\n",
       "      <td>39489</td>\n",
       "      <td>EHYebtations were soZewhat high forume wHenlI ...</td>\n",
       "      <td>0</td>\n",
       "      <td>[ehyebtations, sozewhat, high, forume, whenli,...</td>\n",
       "      <td>[-0.06871776, -0.33967227, -0.33042997, -0.593...</td>\n",
       "    </tr>\n",
       "  </tbody>\n",
       "</table>\n",
       "</div>"
      ],
      "text/plain": [
       "   index                                             review  target  \\\n",
       "0  33553  I really lTked this Summerslam due tB the lvok...       1   \n",
       "1   9427  Not tany delevision shows appeal to vuOte Ds m...       1   \n",
       "2    199  The film Suickly gets to a mTjor chase sccne w...       0   \n",
       "3  12447  JanT Austen would definiDely approve of this o...       1   \n",
       "4  39489  EHYebtations were soZewhat high forume wHenlI ...       0   \n",
       "\n",
       "                                    tokenized_review  \\\n",
       "0  [really, ltked, summerslam, due, tb, lvok, ofr...   \n",
       "1  [tany, delevision, show, appeal, vuote, d, man...   \n",
       "2  [film, suickly, get, mtjor, chase, sccne, eker...   \n",
       "3  [jant, austen, would, definidely, approve, oze...   \n",
       "4  [ehyebtations, sozewhat, high, forume, whenli,...   \n",
       "\n",
       "                                   review_embeddings  \n",
       "0  [-0.046897937, -0.31579578, -0.3297809, -0.566...  \n",
       "1  [-0.06993935, -0.39834782, -0.39500913, -0.698...  \n",
       "2  [-0.09500944, -0.41860768, -0.40264693, -0.719...  \n",
       "3  [-0.10157503, -0.42611623, -0.36409375, -0.722...  \n",
       "4  [-0.06871776, -0.33967227, -0.33042997, -0.593...  "
      ]
     },
     "execution_count": 9,
     "metadata": {},
     "output_type": "execute_result"
    }
   ],
   "source": [
    "imdb_df.head()"
   ]
  },
  {
   "cell_type": "markdown",
   "metadata": {},
   "source": [
    "## 4. Find Best Model using AutoML"
   ]
  },
  {
   "cell_type": "code",
   "execution_count": 10,
   "metadata": {},
   "outputs": [],
   "source": [
    "# Split the dataset into traning and testing splits\n",
    "X_train, X_test, y_train, y_test = train_test_split(np.vstack(imdb_df['review_embeddings']),\n",
    "                                                    imdb_df.loc[:, 'target'], \n",
    "                                                    train_size=0.75, test_size=0.25, random_state=random_state)"
   ]
  },
  {
   "cell_type": "code",
   "execution_count": 11,
   "metadata": {},
   "outputs": [
    {
     "data": {
      "application/vnd.jupyter.widget-view+json": {
       "model_id": "daafbd1985fe43d6825f11c54408a959",
       "version_major": 2,
       "version_minor": 0
      },
      "text/plain": [
       "Optimization Progress:   0%|          | 0/150 [00:00<?, ?pipeline/s]"
      ]
     },
     "metadata": {},
     "output_type": "display_data"
    },
    {
     "name": "stdout",
     "output_type": "stream",
     "text": [
      "\n",
      "Generation 1 - Current best internal CV score: 0.6617333333333333\n",
      "\n",
      "Generation 2 - Current best internal CV score: 0.6617333333333333\n",
      "\n",
      "Best pipeline: LinearSVC(FastICA(input_matrix, tol=0.30000000000000004), C=0.5, dual=True, loss=squared_hinge, penalty=l2, tol=1e-05)\n"
     ]
    },
    {
     "data": {
      "text/html": [
       "<style>#sk-container-id-1 {color: black;background-color: white;}#sk-container-id-1 pre{padding: 0;}#sk-container-id-1 div.sk-toggleable {background-color: white;}#sk-container-id-1 label.sk-toggleable__label {cursor: pointer;display: block;width: 100%;margin-bottom: 0;padding: 0.3em;box-sizing: border-box;text-align: center;}#sk-container-id-1 label.sk-toggleable__label-arrow:before {content: \"▸\";float: left;margin-right: 0.25em;color: #696969;}#sk-container-id-1 label.sk-toggleable__label-arrow:hover:before {color: black;}#sk-container-id-1 div.sk-estimator:hover label.sk-toggleable__label-arrow:before {color: black;}#sk-container-id-1 div.sk-toggleable__content {max-height: 0;max-width: 0;overflow: hidden;text-align: left;background-color: #f0f8ff;}#sk-container-id-1 div.sk-toggleable__content pre {margin: 0.2em;color: black;border-radius: 0.25em;background-color: #f0f8ff;}#sk-container-id-1 input.sk-toggleable__control:checked~div.sk-toggleable__content {max-height: 200px;max-width: 100%;overflow: auto;}#sk-container-id-1 input.sk-toggleable__control:checked~label.sk-toggleable__label-arrow:before {content: \"▾\";}#sk-container-id-1 div.sk-estimator input.sk-toggleable__control:checked~label.sk-toggleable__label {background-color: #d4ebff;}#sk-container-id-1 div.sk-label input.sk-toggleable__control:checked~label.sk-toggleable__label {background-color: #d4ebff;}#sk-container-id-1 input.sk-hidden--visually {border: 0;clip: rect(1px 1px 1px 1px);clip: rect(1px, 1px, 1px, 1px);height: 1px;margin: -1px;overflow: hidden;padding: 0;position: absolute;width: 1px;}#sk-container-id-1 div.sk-estimator {font-family: monospace;background-color: #f0f8ff;border: 1px dotted black;border-radius: 0.25em;box-sizing: border-box;margin-bottom: 0.5em;}#sk-container-id-1 div.sk-estimator:hover {background-color: #d4ebff;}#sk-container-id-1 div.sk-parallel-item::after {content: \"\";width: 100%;border-bottom: 1px solid gray;flex-grow: 1;}#sk-container-id-1 div.sk-label:hover label.sk-toggleable__label {background-color: #d4ebff;}#sk-container-id-1 div.sk-serial::before {content: \"\";position: absolute;border-left: 1px solid gray;box-sizing: border-box;top: 0;bottom: 0;left: 50%;z-index: 0;}#sk-container-id-1 div.sk-serial {display: flex;flex-direction: column;align-items: center;background-color: white;padding-right: 0.2em;padding-left: 0.2em;position: relative;}#sk-container-id-1 div.sk-item {position: relative;z-index: 1;}#sk-container-id-1 div.sk-parallel {display: flex;align-items: stretch;justify-content: center;background-color: white;position: relative;}#sk-container-id-1 div.sk-item::before, #sk-container-id-1 div.sk-parallel-item::before {content: \"\";position: absolute;border-left: 1px solid gray;box-sizing: border-box;top: 0;bottom: 0;left: 50%;z-index: -1;}#sk-container-id-1 div.sk-parallel-item {display: flex;flex-direction: column;z-index: 1;position: relative;background-color: white;}#sk-container-id-1 div.sk-parallel-item:first-child::after {align-self: flex-end;width: 50%;}#sk-container-id-1 div.sk-parallel-item:last-child::after {align-self: flex-start;width: 50%;}#sk-container-id-1 div.sk-parallel-item:only-child::after {width: 0;}#sk-container-id-1 div.sk-dashed-wrapped {border: 1px dashed gray;margin: 0 0.4em 0.5em 0.4em;box-sizing: border-box;padding-bottom: 0.4em;background-color: white;}#sk-container-id-1 div.sk-label label {font-family: monospace;font-weight: bold;display: inline-block;line-height: 1.2em;}#sk-container-id-1 div.sk-label-container {text-align: center;}#sk-container-id-1 div.sk-container {/* jupyter's `normalize.less` sets `[hidden] { display: none; }` but bootstrap.min.css set `[hidden] { display: none !important; }` so we also need the `!important` here to be able to override the default hidden behavior on the sphinx rendered scikit-learn.org. See: https://github.com/scikit-learn/scikit-learn/issues/21755 */display: inline-block !important;position: relative;}#sk-container-id-1 div.sk-text-repr-fallback {display: none;}</style><div id=\"sk-container-id-1\" class=\"sk-top-container\"><div class=\"sk-text-repr-fallback\"><pre>TPOTClassifier(generations=2, population_size=50, random_state=42, verbosity=2)</pre><b>In a Jupyter environment, please rerun this cell to show the HTML representation or trust the notebook. <br />On GitHub, the HTML representation is unable to render, please try loading this page with nbviewer.org.</b></div><div class=\"sk-container\" hidden><div class=\"sk-item\"><div class=\"sk-estimator sk-toggleable\"><input class=\"sk-toggleable__control sk-hidden--visually\" id=\"sk-estimator-id-1\" type=\"checkbox\" checked><label for=\"sk-estimator-id-1\" class=\"sk-toggleable__label sk-toggleable__label-arrow\">TPOTClassifier</label><div class=\"sk-toggleable__content\"><pre>TPOTClassifier(generations=2, population_size=50, random_state=42, verbosity=2)</pre></div></div></div></div></div>"
      ],
      "text/plain": [
       "TPOTClassifier(generations=2, population_size=50, random_state=42, verbosity=2)"
      ]
     },
     "execution_count": 11,
     "metadata": {},
     "output_type": "execute_result"
    }
   ],
   "source": [
    "# Run the TPOT framework to run its optimization (note: this may take a long time depending on the dataset)\n",
    "# The current configuration takes about 15-30 minutes to complete\n",
    "tpot = TPOTClassifier(generations=2, population_size=50, verbosity=2, random_state=42)\n",
    "tpot.fit(X_train, y_train)"
   ]
  },
  {
   "cell_type": "code",
   "execution_count": 12,
   "metadata": {},
   "outputs": [],
   "source": [
    "# Export the pipeline configuration for direct future use\n",
    "tpot.export('textclf_noisydata_tpot_bestmodelpipeline.py')"
   ]
  },
  {
   "cell_type": "markdown",
   "metadata": {},
   "source": [
    "## 5. Train Model"
   ]
  },
  {
   "cell_type": "code",
   "execution_count": 16,
   "metadata": {},
   "outputs": [],
   "source": [
    "# Now, we fit the model as suggested by the TPOT framework to the dataset and make predictions\n",
    "from sklearn.naive_bayes import BernoulliNB\n",
    "from sklearn.svm import LinearSVC\n",
    "\n",
    "automl_model = make_pipeline(\n",
    "    Normalizer(norm=\"l2\"),\n",
    "    # LinearSVC(C=15.0, dual=False, loss=\"squared_hinge\", penalty=\"l2\", tol=0.1)\n",
    "    LinearSVC(C=0.5, dual=True, loss=\"squared_hinge\", penalty=\"l2\", tol=1e-05)\n",
    ")\n",
    "\n",
    "# Fix TPOT random state for all the steps in exported pipeline\n",
    "set_param_recursive(automl_model.steps, 'random_state', random_state)\n",
    "\n",
    "automl_model.fit(X_train, y_train)\n",
    "y_pred_automl = automl_model.predict(X_test)"
   ]
  },
  {
   "cell_type": "markdown",
   "metadata": {},
   "source": [
    "## 6. Evaluate Model"
   ]
  },
  {
   "cell_type": "code",
   "execution_count": 17,
   "metadata": {},
   "outputs": [],
   "source": [
    "# We now evaluate our model performances on this dataset and compare against the Naive Bayes benchmark\n",
    "precision_automl = precision_score(y_true=y_test, y_pred=y_pred_automl)\n",
    "recall_automl = recall_score(y_true=y_test, y_pred=y_pred_automl)\n",
    "f1_automl = f1_score(y_true=y_test, y_pred=y_pred_automl)\n",
    "\n",
    "model_names = ['AutoML-TPOTLinearSVC']\n",
    "plot_title = 'Noisy Data - TPOT Performance'\n",
    "f1_scores = [f1_automl]\n",
    "recall_scores = [recall_automl]\n",
    "precision_scores = [precision_automl]"
   ]
  },
  {
   "cell_type": "code",
   "execution_count": 18,
   "metadata": {},
   "outputs": [
    {
     "data": {
      "image/png": "[encoded data removed]",
      "text/plain": [
       "<Figure size 1000x600 with 1 Axes>"
      ]
     },
     "metadata": {},
     "output_type": "display_data"
    }
   ],
   "source": [
    "fig = get_plot_model(model_names=model_names, f1_scores=f1_scores, recall_scores=recall_scores, precision_scores=precision_scores, title=plot_title)\n",
    "plt.show()"
   ]
  }
 ],
 "metadata": {
  "kernelspec": {
   "display_name": "automlenv",
   "language": "python",
   "name": "python3"
  },
  "language_info": {
   "codemirror_mode": {
    "name": "ipython",
    "version": 3
   },
   "file_extension": ".py",
   "mimetype": "text/x-python",
   "name": "python",
   "nbconvert_exporter": "python",
   "pygments_lexer": "ipython3",
   "version": "3.8.18"
  }
 },
 "nbformat": 4,
 "nbformat_minor": 2
}
