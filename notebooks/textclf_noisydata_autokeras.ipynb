{
 "cells": [
  {
   "cell_type": "markdown",
   "metadata": {},
   "source": [
    "# Text Classification on Noisy IMDB Dataset using AutoKeras"
   ]
  },
  {
   "cell_type": "markdown",
   "metadata": {},
   "source": [
    "## 1. Experiment Details\n",
    "|Specification|Value|\n",
    "|----|----|\n",
    "|AutoML Algorithm|AutoKeras|\n",
    "|Task|Text Classification|\n",
    "|Dataset|IMDB Moview Review|\n",
    "|Dataset Clean|No|\n",
    "|Noise Type|Random|"
   ]
  },
  {
   "cell_type": "markdown",
   "metadata": {},
   "source": [
    "## 2. Load Packages"
   ]
  },
  {
   "cell_type": "code",
   "execution_count": 1,
   "metadata": {},
   "outputs": [
    {
     "name": "stdout",
     "output_type": "stream",
     "text": [
      "Using TensorFlow backend\n"
     ]
    },
    {
     "name": "stderr",
     "output_type": "stream",
     "text": [
      "[nltk_data] Downloading package stopwords to\n",
      "[nltk_data]     /Users/yogesh/nltk_data...\n",
      "[nltk_data]   Package stopwords is already up-to-date!\n",
      "[nltk_data] Downloading package wordnet to /Users/yogesh/nltk_data...\n",
      "[nltk_data]   Package wordnet is already up-to-date!\n"
     ]
    }
   ],
   "source": [
    "# Packages for data processing\n",
    "import numpy as np\n",
    "import pandas as pd\n",
    "from scripts.add_noise import add_gaussian_noise, add_random_noise\n",
    "from scripts.data_preprocess import preprocess_text\n",
    "from sklearn.model_selection import train_test_split\n",
    "\n",
    "# Packages for AutoML framework execution\n",
    "import autokeras as ak\n",
    "\n",
    "# Packages for evaluation plots\n",
    "from sklearn.metrics import precision_score, recall_score, f1_score\n",
    "import matplotlib.pyplot as plt\n",
    "from scripts.plot_model_scores import get_plot_model\n",
    "\n",
    "random_state = 42"
   ]
  },
  {
   "cell_type": "markdown",
   "metadata": {},
   "source": [
    "## 3. Load and Pre-process Dataset"
   ]
  },
  {
   "cell_type": "code",
   "execution_count": 2,
   "metadata": {},
   "outputs": [],
   "source": [
    "# Gaussian noisy data is already computed and stored as dataset. However, the below code snippet can be used to generate new noisy data.\n",
    "# \"\"\"\n",
    "df = pd.read_csv(\"../datasets/clean/imdb.csv\")\n",
    "noisy_df = df.copy()\n",
    "noisy_df['review'] = noisy_df['review'].apply(lambda x: add_gaussian_noise(x, mean=0, std_dev=0.6))\n",
    "noisy_df.to_csv(\"../datasets/noisy/imdb_noisy_gaussian.csv\")\n",
    "# \"\"\"\n",
    "\n",
    "# Get the required dataset from the datasets folder\n",
    "imdb_df = pd.read_csv(\"../datasets/noisy/imdb_noisy_gaussian.csv\", index_col=0)"
   ]
  },
  {
   "cell_type": "code",
   "execution_count": 3,
   "metadata": {},
   "outputs": [],
   "source": [
    "# Random noisy data is already computed and stored as dataset. However, the below code snippet can be used to generate new noisy data.\n",
    "# \"\"\"\n",
    "df = pd.read_csv(\"../datasets/clean/imdb.csv\")\n",
    "noisy_df = df.copy()\n",
    "noisy_df['review'] = noisy_df['review'].apply(lambda x: add_random_noise(x, noise_level=0.1))\n",
    "noisy_df.to_csv(\"../datasets/noisy/imdb_noisy_random.csv\")\n",
    "# \"\"\"\n",
    "\n",
    "# Get the required dataset from the datasets folder\n",
    "imdb_df = pd.read_csv(\"../datasets/noisy/imdb_noisy_random.csv\", index_col=0)"
   ]
  },
  {
   "cell_type": "code",
   "execution_count": 4,
   "metadata": {},
   "outputs": [],
   "source": [
    "# Sample the data for experimentation purposes\n",
    "# Some AutoML frameworks can take long time to test multiple pipelines on large-scale data (e.g. 4+ hours on 50K+ text data)\n",
    "imdb_df = imdb_df.sample(frac=0.2, replace=False, random_state=random_state)"
   ]
  },
  {
   "cell_type": "code",
   "execution_count": 5,
   "metadata": {},
   "outputs": [],
   "source": [
    "# Certain AutoML frameworks such as TPOT require the target variable to be explicitly named as 'target'\n",
    "imdb_df.reset_index(inplace=True)\n",
    "imdb_df.rename(columns={'sentiment':'target'}, inplace=True)\n",
    "imdb_df['target'] = imdb_df['target'].apply(lambda x: 1 if x =='positive' else 0)"
   ]
  },
  {
   "cell_type": "markdown",
   "metadata": {},
   "source": [
    "AutoKeras does not require explicit text pre-processing"
   ]
  },
  {
   "cell_type": "code",
   "execution_count": 6,
   "metadata": {},
   "outputs": [
    {
     "data": {
      "text/html": [
       "<div>\n",
       "<style scoped>\n",
       "    .dataframe tbody tr th:only-of-type {\n",
       "        vertical-align: middle;\n",
       "    }\n",
       "\n",
       "    .dataframe tbody tr th {\n",
       "        vertical-align: top;\n",
       "    }\n",
       "\n",
       "    .dataframe thead th {\n",
       "        text-align: right;\n",
       "    }\n",
       "</style>\n",
       "<table border=\"1\" class=\"dataframe\">\n",
       "  <thead>\n",
       "    <tr style=\"text-align: right;\">\n",
       "      <th></th>\n",
       "      <th>index</th>\n",
       "      <th>review</th>\n",
       "      <th>target</th>\n",
       "    </tr>\n",
       "  </thead>\n",
       "  <tbody>\n",
       "    <tr>\n",
       "      <th>0</th>\n",
       "      <td>33553</td>\n",
       "      <td>Iireally liked thUs Summersyam due to the lXok...</td>\n",
       "      <td>1</td>\n",
       "    </tr>\n",
       "    <tr>\n",
       "      <th>1</th>\n",
       "      <td>9427</td>\n",
       "      <td>Rot Nany televiQion showsuapqealXto vuite as m...</td>\n",
       "      <td>1</td>\n",
       "    </tr>\n",
       "    <tr>\n",
       "      <th>2</th>\n",
       "      <td>199</td>\n",
       "      <td>The fiUc quickly jetr to a major phase stenePw...</td>\n",
       "      <td>0</td>\n",
       "    </tr>\n",
       "    <tr>\n",
       "      <th>3</th>\n",
       "      <td>12447</td>\n",
       "      <td>JanD Austen VouldvKefieitely approve of this o...</td>\n",
       "      <td>1</td>\n",
       "    </tr>\n",
       "    <tr>\n",
       "      <th>4</th>\n",
       "      <td>39489</td>\n",
       "      <td>RxMeVtatlonsMwkre somewhat hdgh fFr me whKn I ...</td>\n",
       "      <td>0</td>\n",
       "    </tr>\n",
       "  </tbody>\n",
       "</table>\n",
       "</div>"
      ],
      "text/plain": [
       "   index                                             review  target\n",
       "0  33553  Iireally liked thUs Summersyam due to the lXok...       1\n",
       "1   9427  Rot Nany televiQion showsuapqealXto vuite as m...       1\n",
       "2    199  The fiUc quickly jetr to a major phase stenePw...       0\n",
       "3  12447  JanD Austen VouldvKefieitely approve of this o...       1\n",
       "4  39489  RxMeVtatlonsMwkre somewhat hdgh fFr me whKn I ...       0"
      ]
     },
     "execution_count": 6,
     "metadata": {},
     "output_type": "execute_result"
    }
   ],
   "source": [
    "imdb_df.head()"
   ]
  },
  {
   "cell_type": "markdown",
   "metadata": {},
   "source": [
    "## 4. Find Best Model using AutoML"
   ]
  },
  {
   "cell_type": "code",
   "execution_count": 7,
   "metadata": {},
   "outputs": [],
   "source": [
    "# Split the dataset into traning and testing splits\n",
    "X_train, X_test, y_train, y_test = train_test_split(imdb_df.loc[:, imdb_df.columns != 'target'], \n",
    "                                                    imdb_df.loc[:, 'target'], \n",
    "                                                    train_size=0.75, test_size=0.25, random_state=random_state)"
   ]
  },
  {
   "cell_type": "code",
   "execution_count": 8,
   "metadata": {},
   "outputs": [],
   "source": [
    "# AutoKeras framework requires input to be a numpy array\n",
    "X_train = np.array(X_train.loc[:, 'review'])\n",
    "X_test = np.array(X_test.loc[:, 'review'])\n",
    "y_train = np.array(y_train)\n",
    "y_test = np.array(y_test)"
   ]
  },
  {
   "cell_type": "code",
   "execution_count": 9,
   "metadata": {},
   "outputs": [],
   "source": [
    "# Initialize the built-in text classifier.\n",
    "clf = ak.TextClassifier(overwrite=True, max_trials=3)"
   ]
  },
  {
   "cell_type": "markdown",
   "metadata": {},
   "source": [
    "## 5. Train Model and Predict"
   ]
  },
  {
   "cell_type": "code",
   "execution_count": 10,
   "metadata": {},
   "outputs": [
    {
     "name": "stdout",
     "output_type": "stream",
     "text": [
      "Trial 3 Complete [00h 00m 00s]\n",
      "\n",
      "Best val_loss So Far: 0.5104007720947266\n",
      "Total elapsed time: 00h 00m 22s\n"
     ]
    },
    {
     "name": "stderr",
     "output_type": "stream",
     "text": [
      "WARNING:absl:At this time, the v2.11+ optimizer `tf.keras.optimizers.Adam` runs slowly on M1/M2 Macs, please use the legacy Keras optimizer instead, located at `tf.keras.optimizers.legacy.Adam`.\n",
      "WARNING:absl:There is a known slowdown when using v2.11+ Keras optimizers on M1/M2 Macs. Falling back to the legacy Keras optimizer, i.e., `tf.keras.optimizers.legacy.Adam`.\n"
     ]
    },
    {
     "name": "stdout",
     "output_type": "stream",
     "text": [
      "Epoch 1/2\n",
      "235/235 [==============================] - 9s 37ms/step - loss: 0.6723 - accuracy: 0.5560\n",
      "Epoch 2/2\n",
      "235/235 [==============================] - 9s 37ms/step - loss: 0.5084 - accuracy: 0.7548\n",
      "INFO:tensorflow:Assets written to: ./text_classifier/best_model/assets\n"
     ]
    },
    {
     "name": "stderr",
     "output_type": "stream",
     "text": [
      "INFO:tensorflow:Assets written to: ./text_classifier/best_model/assets\n"
     ]
    },
    {
     "data": {
      "text/plain": [
       "<keras.src.callbacks.History at 0x29072d1c0>"
      ]
     },
     "execution_count": 10,
     "metadata": {},
     "output_type": "execute_result"
    }
   ],
   "source": [
    "# Feed the text classifier with training data.\n",
    "clf.fit(X_train, y_train, epochs=2)"
   ]
  },
  {
   "cell_type": "code",
   "execution_count": 11,
   "metadata": {},
   "outputs": [
    {
     "name": "stdout",
     "output_type": "stream",
     "text": [
      "79/79 [==============================] - 1s 11ms/step\n",
      "79/79 [==============================] - 1s 11ms/step\n"
     ]
    }
   ],
   "source": [
    "# Predict with the best model.\n",
    "y_pred_automl = clf.predict(X_test)"
   ]
  },
  {
   "cell_type": "markdown",
   "metadata": {},
   "source": [
    "## 6. Evaluate Model"
   ]
  },
  {
   "cell_type": "code",
   "execution_count": 16,
   "metadata": {},
   "outputs": [],
   "source": [
    "# We now evaluate our model performances on this dataset and compare against the Naive Bayes benchmark\n",
    "precision_automl = precision_score(y_true=y_test, y_pred=y_pred_automl)\n",
    "recall_automl = recall_score(y_true=y_test, y_pred=y_pred_automl)\n",
    "f1_automl = f1_score(y_true=y_test, y_pred=y_pred_automl)\n",
    "\n",
    "model_names = ['AutoML-AutoKeras']\n",
    "plot_title = 'Noisy Data - AutoKeras Performance'\n",
    "f1_scores = [f1_automl]\n",
    "recall_scores = [recall_automl]\n",
    "precision_scores = [precision_automl]"
   ]
  },
  {
   "cell_type": "code",
   "execution_count": 17,
   "metadata": {},
   "outputs": [
    {
     "data": {
      "image/png": "[encoded data removed]",
      "text/plain": [
       "<Figure size 1000x600 with 1 Axes>"
      ]
     },
     "metadata": {},
     "output_type": "display_data"
    }
   ],
   "source": [
    "fig = get_plot_model(model_names=model_names, f1_scores=f1_scores, recall_scores=recall_scores, precision_scores=precision_scores, title=plot_title)\n",
    "plt.show()"
   ]
  }
 ],
 "metadata": {
  "kernelspec": {
   "display_name": "automlenv",
   "language": "python",
   "name": "python3"
  },
  "language_info": {
   "codemirror_mode": {
    "name": "ipython",
    "version": 3
   },
   "file_extension": ".py",
   "mimetype": "text/x-python",
   "name": "python",
   "nbconvert_exporter": "python",
   "pygments_lexer": "ipython3",
   "version": "3.8.18"
  }
 },
 "nbformat": 4,
 "nbformat_minor": 2
}
